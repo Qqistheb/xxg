{
 "cells": [
  {
   "cell_type": "code",
   "execution_count": 1,
   "metadata": {},
   "outputs": [],
   "source": [
    "#24+严绮翘+191203101698\n",
    "from sklearn.datasets import *\n",
    "from sklearn import tree\n",
    "from sklearn.model_selection import train_test_split\n",
    "import dtreeviz\n",
    "import re\n",
    "import os\n",
    "from pyecharts .globals import ChartType, SymbolType\n",
    "from pyecharts import options as opts\n",
    "from pyecharts.charts import Grid, Liquid, Funnel, Page, Bar, Pie, Map, Geo, Line\n",
    "from pyecharts.faker import Collector\n",
    "import matplotlib.pyplot as plt\n",
    "import pandas as pd\n",
    "from wordcloud import WordCloud\n",
    "from pyecharts.faker import Collector, Faker\n",
    "import time\n",
    "from datetime import time\n",
    "import warnings\n",
    "import numpy as np\n",
    "import seaborn as sns\n",
    "from pyecharts.charts import Line\n",
    "from pyecharts import options\n",
    "from pyecharts import options as opts\n",
    "from pyecharts.charts import Scatter\n",
    "from pyecharts.globals import ThemeType\n",
    "from pyecharts.commons.utils import JsCode\n",
    "%matplotlib inline\n",
    "# sns.set()\n",
    "# import matplotlib\n",
    "# matplotlib.use('qt5agg')\n",
    "#指定默认字体\n",
    "plt.rcParams['font.sans-serif'] = ['SimHei']\n",
    "# matplotlib.rcParams['font.family']='sans-serif'\n",
    "#解决负号'-'显示为方块的问题\n",
    "plt.rcParams['axes.unicode_minus'] = False"
   ]
  },
  {
   "cell_type": "code",
   "execution_count": 2,
   "metadata": {},
   "outputs": [],
   "source": [
    "df = pd.read_csv('df2.csv', encoding='GBK')"
   ]
  },
  {
   "cell_type": "code",
   "execution_count": 3,
   "metadata": {},
   "outputs": [
    {
     "data": {
      "text/html": [
       "<div>\n",
       "<style scoped>\n",
       "    .dataframe tbody tr th:only-of-type {\n",
       "        vertical-align: middle;\n",
       "    }\n",
       "\n",
       "    .dataframe tbody tr th {\n",
       "        vertical-align: top;\n",
       "    }\n",
       "\n",
       "    .dataframe thead th {\n",
       "        text-align: right;\n",
       "    }\n",
       "</style>\n",
       "<table border=\"1\" class=\"dataframe\">\n",
       "  <thead>\n",
       "    <tr style=\"text-align: right;\">\n",
       "      <th></th>\n",
       "      <th>Sex</th>\n",
       "      <th>ChestPainType</th>\n",
       "      <th>RestingECG</th>\n",
       "      <th>ExerciseAngina</th>\n",
       "      <th>ST_Slope</th>\n",
       "    </tr>\n",
       "  </thead>\n",
       "  <tbody>\n",
       "    <tr>\n",
       "      <th>0</th>\n",
       "      <td>M</td>\n",
       "      <td>ATA</td>\n",
       "      <td>Normal</td>\n",
       "      <td>N</td>\n",
       "      <td>Up</td>\n",
       "    </tr>\n",
       "    <tr>\n",
       "      <th>1</th>\n",
       "      <td>F</td>\n",
       "      <td>NAP</td>\n",
       "      <td>Normal</td>\n",
       "      <td>N</td>\n",
       "      <td>Flat</td>\n",
       "    </tr>\n",
       "    <tr>\n",
       "      <th>2</th>\n",
       "      <td>M</td>\n",
       "      <td>ATA</td>\n",
       "      <td>ST</td>\n",
       "      <td>N</td>\n",
       "      <td>Up</td>\n",
       "    </tr>\n",
       "    <tr>\n",
       "      <th>3</th>\n",
       "      <td>F</td>\n",
       "      <td>ASY</td>\n",
       "      <td>Normal</td>\n",
       "      <td>Y</td>\n",
       "      <td>Flat</td>\n",
       "    </tr>\n",
       "    <tr>\n",
       "      <th>4</th>\n",
       "      <td>M</td>\n",
       "      <td>NAP</td>\n",
       "      <td>Normal</td>\n",
       "      <td>N</td>\n",
       "      <td>Up</td>\n",
       "    </tr>\n",
       "  </tbody>\n",
       "</table>\n",
       "</div>"
      ],
      "text/plain": [
       "  Sex ChestPainType RestingECG ExerciseAngina ST_Slope\n",
       "0   M           ATA     Normal              N       Up\n",
       "1   F           NAP     Normal              N     Flat\n",
       "2   M           ATA         ST              N       Up\n",
       "3   F           ASY     Normal              Y     Flat\n",
       "4   M           NAP     Normal              N       Up"
      ]
     },
     "execution_count": 3,
     "metadata": {},
     "output_type": "execute_result"
    }
   ],
   "source": [
    "mask = df.dtypes == np.object\n",
    "\n",
    "categorical_cols = df.columns[mask]\n",
    "data_obj=df[categorical_cols]\n",
    "data_obj.head()"
   ]
  },
  {
   "cell_type": "code",
   "execution_count": 4,
   "metadata": {},
   "outputs": [
    {
     "data": {
      "text/plain": [
       "ChestPainType     4\n",
       "ST_Slope          3\n",
       "RestingECG        3\n",
       "ExerciseAngina    2\n",
       "Sex               2\n",
       "dtype: int64"
      ]
     },
     "execution_count": 4,
     "metadata": {},
     "output_type": "execute_result"
    }
   ],
   "source": [
    "num_ohc_cols = (df[categorical_cols].apply(lambda x: x.nunique()))\n",
    "num_ohc_cols=num_ohc_cols.sort_values(ascending=False)\n",
    "num_ohc_cols"
   ]
  },
  {
   "cell_type": "code",
   "execution_count": 5,
   "metadata": {},
   "outputs": [
    {
     "data": {
      "text/plain": [
       "M    725\n",
       "F    193\n",
       "Name: Sex, dtype: int64"
      ]
     },
     "execution_count": 5,
     "metadata": {},
     "output_type": "execute_result"
    }
   ],
   "source": [
    "data_obj['Sex'].value_counts()"
   ]
  },
  {
   "cell_type": "code",
   "execution_count": 6,
   "metadata": {},
   "outputs": [
    {
     "name": "stdout",
     "output_type": "stream",
     "text": [
      "['ASY' 'ATA' 'NAP' 'TA']\n",
      "[0 1 2 3]\n",
      "['Down' 'Flat' 'Up']\n",
      "[0 1 2]\n",
      "['LVH' 'Normal' 'ST']\n",
      "[0 1 2]\n",
      "['N' 'Y']\n",
      "[0 1]\n",
      "['F' 'M']\n",
      "[0 1]\n"
     ]
    },
    {
     "data": {
      "text/html": [
       "<div>\n",
       "<style scoped>\n",
       "    .dataframe tbody tr th:only-of-type {\n",
       "        vertical-align: middle;\n",
       "    }\n",
       "\n",
       "    .dataframe tbody tr th {\n",
       "        vertical-align: top;\n",
       "    }\n",
       "\n",
       "    .dataframe thead th {\n",
       "        text-align: right;\n",
       "    }\n",
       "</style>\n",
       "<table border=\"1\" class=\"dataframe\">\n",
       "  <thead>\n",
       "    <tr style=\"text-align: right;\">\n",
       "      <th></th>\n",
       "      <th>Age</th>\n",
       "      <th>RestingBP</th>\n",
       "      <th>Cholesterol</th>\n",
       "      <th>FastingBS</th>\n",
       "      <th>MaxHR</th>\n",
       "      <th>Oldpeak</th>\n",
       "      <th>HeartDisease</th>\n",
       "      <th>ChestPainType_0</th>\n",
       "      <th>ChestPainType_1</th>\n",
       "      <th>ChestPainType_2</th>\n",
       "      <th>...</th>\n",
       "      <th>ST_Slope_0</th>\n",
       "      <th>ST_Slope_1</th>\n",
       "      <th>ST_Slope_2</th>\n",
       "      <th>RestingECG_0</th>\n",
       "      <th>RestingECG_1</th>\n",
       "      <th>RestingECG_2</th>\n",
       "      <th>ExerciseAngina_0</th>\n",
       "      <th>ExerciseAngina_1</th>\n",
       "      <th>Sex_0</th>\n",
       "      <th>Sex_1</th>\n",
       "    </tr>\n",
       "  </thead>\n",
       "  <tbody>\n",
       "    <tr>\n",
       "      <th>0</th>\n",
       "      <td>40</td>\n",
       "      <td>140.0</td>\n",
       "      <td>289.0</td>\n",
       "      <td>0</td>\n",
       "      <td>172</td>\n",
       "      <td>0.0</td>\n",
       "      <td>0</td>\n",
       "      <td>0.0</td>\n",
       "      <td>1.0</td>\n",
       "      <td>0.0</td>\n",
       "      <td>...</td>\n",
       "      <td>0.0</td>\n",
       "      <td>0.0</td>\n",
       "      <td>1.0</td>\n",
       "      <td>0.0</td>\n",
       "      <td>1.0</td>\n",
       "      <td>0.0</td>\n",
       "      <td>1.0</td>\n",
       "      <td>0.0</td>\n",
       "      <td>0.0</td>\n",
       "      <td>1.0</td>\n",
       "    </tr>\n",
       "    <tr>\n",
       "      <th>1</th>\n",
       "      <td>49</td>\n",
       "      <td>160.0</td>\n",
       "      <td>180.0</td>\n",
       "      <td>0</td>\n",
       "      <td>156</td>\n",
       "      <td>1.0</td>\n",
       "      <td>1</td>\n",
       "      <td>0.0</td>\n",
       "      <td>0.0</td>\n",
       "      <td>1.0</td>\n",
       "      <td>...</td>\n",
       "      <td>0.0</td>\n",
       "      <td>1.0</td>\n",
       "      <td>0.0</td>\n",
       "      <td>0.0</td>\n",
       "      <td>1.0</td>\n",
       "      <td>0.0</td>\n",
       "      <td>1.0</td>\n",
       "      <td>0.0</td>\n",
       "      <td>1.0</td>\n",
       "      <td>0.0</td>\n",
       "    </tr>\n",
       "    <tr>\n",
       "      <th>2</th>\n",
       "      <td>37</td>\n",
       "      <td>130.0</td>\n",
       "      <td>283.0</td>\n",
       "      <td>0</td>\n",
       "      <td>98</td>\n",
       "      <td>0.0</td>\n",
       "      <td>0</td>\n",
       "      <td>0.0</td>\n",
       "      <td>1.0</td>\n",
       "      <td>0.0</td>\n",
       "      <td>...</td>\n",
       "      <td>0.0</td>\n",
       "      <td>0.0</td>\n",
       "      <td>1.0</td>\n",
       "      <td>0.0</td>\n",
       "      <td>0.0</td>\n",
       "      <td>1.0</td>\n",
       "      <td>1.0</td>\n",
       "      <td>0.0</td>\n",
       "      <td>0.0</td>\n",
       "      <td>1.0</td>\n",
       "    </tr>\n",
       "    <tr>\n",
       "      <th>3</th>\n",
       "      <td>48</td>\n",
       "      <td>138.0</td>\n",
       "      <td>214.0</td>\n",
       "      <td>0</td>\n",
       "      <td>108</td>\n",
       "      <td>1.5</td>\n",
       "      <td>1</td>\n",
       "      <td>1.0</td>\n",
       "      <td>0.0</td>\n",
       "      <td>0.0</td>\n",
       "      <td>...</td>\n",
       "      <td>0.0</td>\n",
       "      <td>1.0</td>\n",
       "      <td>0.0</td>\n",
       "      <td>0.0</td>\n",
       "      <td>1.0</td>\n",
       "      <td>0.0</td>\n",
       "      <td>0.0</td>\n",
       "      <td>1.0</td>\n",
       "      <td>1.0</td>\n",
       "      <td>0.0</td>\n",
       "    </tr>\n",
       "    <tr>\n",
       "      <th>4</th>\n",
       "      <td>54</td>\n",
       "      <td>150.0</td>\n",
       "      <td>195.0</td>\n",
       "      <td>0</td>\n",
       "      <td>122</td>\n",
       "      <td>0.0</td>\n",
       "      <td>0</td>\n",
       "      <td>0.0</td>\n",
       "      <td>0.0</td>\n",
       "      <td>1.0</td>\n",
       "      <td>...</td>\n",
       "      <td>0.0</td>\n",
       "      <td>0.0</td>\n",
       "      <td>1.0</td>\n",
       "      <td>0.0</td>\n",
       "      <td>1.0</td>\n",
       "      <td>0.0</td>\n",
       "      <td>1.0</td>\n",
       "      <td>0.0</td>\n",
       "      <td>0.0</td>\n",
       "      <td>1.0</td>\n",
       "    </tr>\n",
       "  </tbody>\n",
       "</table>\n",
       "<p>5 rows × 21 columns</p>\n",
       "</div>"
      ],
      "text/plain": [
       "   Age  RestingBP  Cholesterol  FastingBS  MaxHR  Oldpeak  HeartDisease  \\\n",
       "0   40      140.0        289.0          0    172      0.0             0   \n",
       "1   49      160.0        180.0          0    156      1.0             1   \n",
       "2   37      130.0        283.0          0     98      0.0             0   \n",
       "3   48      138.0        214.0          0    108      1.5             1   \n",
       "4   54      150.0        195.0          0    122      0.0             0   \n",
       "\n",
       "   ChestPainType_0  ChestPainType_1  ChestPainType_2  ...  ST_Slope_0  \\\n",
       "0              0.0              1.0              0.0  ...         0.0   \n",
       "1              0.0              0.0              1.0  ...         0.0   \n",
       "2              0.0              1.0              0.0  ...         0.0   \n",
       "3              1.0              0.0              0.0  ...         0.0   \n",
       "4              0.0              0.0              1.0  ...         0.0   \n",
       "\n",
       "   ST_Slope_1  ST_Slope_2  RestingECG_0  RestingECG_1  RestingECG_2  \\\n",
       "0         0.0         1.0           0.0           1.0           0.0   \n",
       "1         1.0         0.0           0.0           1.0           0.0   \n",
       "2         0.0         1.0           0.0           0.0           1.0   \n",
       "3         1.0         0.0           0.0           1.0           0.0   \n",
       "4         0.0         1.0           0.0           1.0           0.0   \n",
       "\n",
       "   ExerciseAngina_0  ExerciseAngina_1  Sex_0  Sex_1  \n",
       "0               1.0               0.0    0.0    1.0  \n",
       "1               1.0               0.0    1.0    0.0  \n",
       "2               1.0               0.0    0.0    1.0  \n",
       "3               0.0               1.0    1.0    0.0  \n",
       "4               1.0               0.0    0.0    1.0  \n",
       "\n",
       "[5 rows x 21 columns]"
      ]
     },
     "execution_count": 6,
     "metadata": {},
     "output_type": "execute_result"
    }
   ],
   "source": [
    "from sklearn.preprocessing import OneHotEncoder, LabelEncoder\n",
    "# 创建编码器实例\n",
    "le = LabelEncoder()\n",
    "ohc = OneHotEncoder()\n",
    "data_encoded = df\n",
    "for col in num_ohc_cols.index:\n",
    "    \n",
    "    # 先使用LabelEncoder实现字符串编码\n",
    "    object_dat = le.fit_transform(data_encoded[col])\n",
    "    print(le.classes_)\n",
    "    print(le.fit(object_dat).classes_)\n",
    "    \n",
    "    # 再使用OneHotEncoder实现独热编码\n",
    "    new_object_dat = ohc.fit_transform(object_dat.reshape(-1,1))\n",
    "#     print(new_object_dat)\n",
    "    # 为new_dat创建新的列名,新列名为“原列名_列索引”\n",
    "    n_cols = new_object_dat.shape[1]\n",
    "    col_names = ['_'.join([col, str(x)]) for x in range(n_cols)]\n",
    "#     print(col_names)\n",
    "\n",
    "    #用新列名和原行索引建立新的DataFrame\n",
    "    new_object_df=pd.DataFrame(new_object_dat.toarray(),columns=col_names,index=data_encoded.index)\n",
    "\n",
    "    # 从数据中删除原始列\n",
    "    data_encoded = data_encoded.drop(col, axis=1)\n",
    "\n",
    "    # 将新数据追加到 dataframe\n",
    "    data_encoded = pd.concat([data_encoded, new_object_df], axis=1)\n",
    "data_encoded.head()"
   ]
  },
  {
   "cell_type": "code",
   "execution_count": 7,
   "metadata": {},
   "outputs": [
    {
     "name": "stdout",
     "output_type": "stream",
     "text": [
      "特征集维数  (918, 20)\n",
      "标签集维数  (918,)\n"
     ]
    }
   ],
   "source": [
    "# 将SalePrice列以外的列都作为特征集\n",
    "feature_cols_encoded = [x for x in data_encoded.columns if x not in 'HeartDisease']\n",
    "feature_encoded = data_encoded[feature_cols_encoded]\n",
    "print('特征集维数 ',feature_encoded.shape)\n",
    "\n",
    "# 将SalePrice列作为特征集\n",
    "label_cols_encoded = 'HeartDisease'\n",
    "label_encoded = data_encoded[label_cols_encoded]\n",
    "print('标签集维数 ',label_encoded.shape)\n",
    "Xtrain_encoded,Xtest_encoded,ytrain_encoded,ytest_encoded=train_test_split(feature_encoded,label_encoded,test_size=0.3)"
   ]
  },
  {
   "cell_type": "code",
   "execution_count": 8,
   "metadata": {},
   "outputs": [
    {
     "data": {
      "text/plain": [
       "0.8333333333333334"
      ]
     },
     "execution_count": 8,
     "metadata": {},
     "output_type": "execute_result"
    }
   ],
   "source": [
    "dt = tree.DecisionTreeClassifier(criterion='entropy', max_depth=3,\n",
    "                                  random_state=1,splitter='random', min_samples_split=80)\n",
    "\n",
    "dt = dt.fit(Xtrain_encoded, ytrain_encoded)\n",
    "\n",
    "score=dt.score(Xtest_encoded,ytest_encoded)\n",
    "score"
   ]
  },
  {
   "cell_type": "code",
   "execution_count": 9,
   "metadata": {},
   "outputs": [
    {
     "name": "stdout",
     "output_type": "stream",
     "text": [
      "训练集上的正确率为： 0.8442367601246106\n",
      "测试集上的正确率为： 0.8333333333333334\n"
     ]
    }
   ],
   "source": [
    "from sklearn.metrics import accuracy_score, precision_score, recall_score, f1_score\n",
    "ytrain_pred = dt.predict(Xtrain_encoded)\n",
    "acc_Xtrain=accuracy_score(ytrain_encoded,ytrain_pred)\n",
    "print('训练集上的正确率为：',acc_Xtrain)\n",
    "ytest_pred = dt.predict(Xtest_encoded)\n",
    "acc_Xtest=accuracy_score(ytest_encoded,ytest_pred)\n",
    "print('测试集上的正确率为：',acc_Xtest)"
   ]
  },
  {
   "cell_type": "code",
   "execution_count": 10,
   "metadata": {},
   "outputs": [
    {
     "data": {
      "text/html": [
       "<div>\n",
       "<style scoped>\n",
       "    .dataframe tbody tr th:only-of-type {\n",
       "        vertical-align: middle;\n",
       "    }\n",
       "\n",
       "    .dataframe tbody tr th {\n",
       "        vertical-align: top;\n",
       "    }\n",
       "\n",
       "    .dataframe thead th {\n",
       "        text-align: right;\n",
       "    }\n",
       "</style>\n",
       "<table border=\"1\" class=\"dataframe\">\n",
       "  <thead>\n",
       "    <tr style=\"text-align: right;\">\n",
       "      <th></th>\n",
       "      <th>train</th>\n",
       "      <th>test</th>\n",
       "    </tr>\n",
       "  </thead>\n",
       "  <tbody>\n",
       "    <tr>\n",
       "      <th>accuracy</th>\n",
       "      <td>0.844237</td>\n",
       "      <td>0.833333</td>\n",
       "    </tr>\n",
       "    <tr>\n",
       "      <th>precision</th>\n",
       "      <td>0.886154</td>\n",
       "      <td>0.899281</td>\n",
       "    </tr>\n",
       "    <tr>\n",
       "      <th>recall</th>\n",
       "      <td>0.820513</td>\n",
       "      <td>0.796178</td>\n",
       "    </tr>\n",
       "    <tr>\n",
       "      <th>f1</th>\n",
       "      <td>0.852071</td>\n",
       "      <td>0.844595</td>\n",
       "    </tr>\n",
       "  </tbody>\n",
       "</table>\n",
       "</div>"
      ],
      "text/plain": [
       "              train      test\n",
       "accuracy   0.844237  0.833333\n",
       "precision  0.886154  0.899281\n",
       "recall     0.820513  0.796178\n",
       "f1         0.852071  0.844595"
      ]
     },
     "execution_count": 10,
     "metadata": {},
     "output_type": "execute_result"
    }
   ],
   "source": [
    "#定义一个函数measure_error，用于将四个数值组合到一起\n",
    "def measure_error(y_true, y_pred, label):\n",
    "    return pd.Series({'accuracy':accuracy_score(y_true, y_pred),\n",
    "                      'precision': precision_score(y_true, y_pred),\n",
    "                      'recall': recall_score(y_true, y_pred),\n",
    "                      'f1': f1_score(y_true, y_pred)},\n",
    "                      name=label)\n",
    "\n",
    "ytrain_pred = dt.predict(Xtrain_encoded)\n",
    "ytest_pred = dt.predict(Xtest_encoded)\n",
    "# print(ytest_pred)\n",
    "\n",
    "train_test_full_error = pd.concat([measure_error(ytrain_encoded, ytrain_pred, 'train'),\n",
    "                              measure_error(ytest_encoded, ytest_pred, 'test')],\n",
    "                              axis=1)\n",
    "train_test_full_error\n"
   ]
  },
  {
   "cell_type": "code",
   "execution_count": 11,
   "metadata": {},
   "outputs": [
    {
     "data": {
      "text/plain": [
       "(15, 3)"
      ]
     },
     "execution_count": 11,
     "metadata": {},
     "output_type": "execute_result"
    }
   ],
   "source": [
    "dt.tree_.node_count, dt.tree_.max_depth"
   ]
  },
  {
   "cell_type": "code",
   "execution_count": 12,
   "metadata": {},
   "outputs": [
    {
     "data": {
      "application/vnd.jupyter.widget-view+json": {
       "model_id": "3b4ecf05e3cc4fcda44835c0e7927277",
       "version_major": 2,
       "version_minor": 0
      },
      "text/plain": [
       "Image(value=b'\\x89PNG\\r\\n\\x1a\\n\\x00\\x00\\x00\\rIHDR\\x00\\x00\\x05\\x85\\x00\\x00\\x02A\\x08\\x02\\x00\\x00\\x00\\x96\\tM\\xa2\\…"
      ]
     },
     "metadata": {},
     "output_type": "display_data"
    }
   ],
   "source": [
    "import graphviz\n",
    "from io import StringIO\n",
    "import pydotplus\n",
    "from ipywidgets import Image\n",
    "# feature_name=['Age','Sex','ChestPainType','RestingBP','Cholesterol','FastingBS','RestingECG','MaxHR','ExerciseAngina','Oldpeak','ST_Slope']\n",
    "\n",
    "dot_data = StringIO()\n",
    "tree.export_graphviz(dt, out_file=dot_data,\n",
    "                              feature_names=feature_cols_encoded,\n",
    "                              class_names=['Health','patient'],\n",
    "                              filled=True,rounded=True)\n",
    "\n",
    "graph = pydotplus.graph_from_dot_data(dot_data.getvalue())\n",
    "Image(value=graph.create_png())\n",
    "# graph=graphviz.Source(dot_data)\n",
    "# graph"
   ]
  },
  {
   "cell_type": "code",
   "execution_count": 13,
   "metadata": {},
   "outputs": [
    {
     "name": "stderr",
     "output_type": "stream",
     "text": [
      "Warning: No such file or directory while opening C:\\Users\\寒涧松\\AppData\\Local\\Temp/node2_15660.svg\r\n",
      "Error: No or improper image file=\"C:\\Users\\寒涧松\\AppData\\Local\\Temp/node2_15660.svg\"\r\n",
      "in label of node node2\r\n",
      "Warning: No such file or directory while opening C:\\Users\\寒涧松\\AppData\\Local\\Temp/node5_15660.svg\r\n",
      "Error: No or improper image file=\"C:\\Users\\寒涧松\\AppData\\Local\\Temp/node5_15660.svg\"\r\n",
      "in label of node node5\r\n",
      "Warning: No such file or directory while opening C:\\Users\\寒涧松\\AppData\\Local\\Temp/node1_15660.svg\r\n",
      "Error: No or improper image file=\"C:\\Users\\寒涧松\\AppData\\Local\\Temp/node1_15660.svg\"\r\n",
      "in label of node node1\r\n",
      "Warning: No such file or directory while opening C:\\Users\\寒涧松\\AppData\\Local\\Temp/node9_15660.svg\r\n",
      "Error: No or improper image file=\"C:\\Users\\寒涧松\\AppData\\Local\\Temp/node9_15660.svg\"\r\n",
      "in label of node node9\r\n",
      "Warning: No such file or directory while opening C:\\Users\\寒涧松\\AppData\\Local\\Temp/node12_15660.svg\r\n",
      "Error: No or improper image file=\"C:\\Users\\寒涧松\\AppData\\Local\\Temp/node12_15660.svg\"\r\n",
      "in label of node node12\r\n",
      "Warning: No such file or directory while opening C:\\Users\\寒涧松\\AppData\\Local\\Temp/node8_15660.svg\r\n",
      "Error: No or improper image file=\"C:\\Users\\寒涧松\\AppData\\Local\\Temp/node8_15660.svg\"\r\n",
      "in label of node node8\r\n",
      "Warning: No such file or directory while opening C:\\Users\\寒涧松\\AppData\\Local\\Temp/node0_15660.svg\r\n",
      "Error: No or improper image file=\"C:\\Users\\寒涧松\\AppData\\Local\\Temp/node0_15660.svg\"\r\n",
      "in label of node node0\r\n",
      "Warning: No such file or directory while opening C:\\Users\\寒涧松\\AppData\\Local\\Temp/leaf3_15660.svg\r\n",
      "Error: No or improper image file=\"C:\\Users\\寒涧松\\AppData\\Local\\Temp/leaf3_15660.svg\"\r\n",
      "in label of node leaf3\r\n",
      "Warning: No such file or directory while opening C:\\Users\\寒涧松\\AppData\\Local\\Temp/leaf4_15660.svg\r\n",
      "Error: No or improper image file=\"C:\\Users\\寒涧松\\AppData\\Local\\Temp/leaf4_15660.svg\"\r\n",
      "in label of node leaf4\r\n",
      "Warning: No such file or directory while opening C:\\Users\\寒涧松\\AppData\\Local\\Temp/leaf6_15660.svg\r\n",
      "Error: No or improper image file=\"C:\\Users\\寒涧松\\AppData\\Local\\Temp/leaf6_15660.svg\"\r\n",
      "in label of node leaf6\r\n",
      "Warning: No such file or directory while opening C:\\Users\\寒涧松\\AppData\\Local\\Temp/leaf7_15660.svg\r\n",
      "Error: No or improper image file=\"C:\\Users\\寒涧松\\AppData\\Local\\Temp/leaf7_15660.svg\"\r\n",
      "in label of node leaf7\r\n",
      "Warning: No such file or directory while opening C:\\Users\\寒涧松\\AppData\\Local\\Temp/leaf10_15660.svg\r\n",
      "Error: No or improper image file=\"C:\\Users\\寒涧松\\AppData\\Local\\Temp/leaf10_15660.svg\"\r\n",
      "in label of node leaf10\r\n",
      "Warning: No such file or directory while opening C:\\Users\\寒涧松\\AppData\\Local\\Temp/leaf11_15660.svg\r\n",
      "Error: No or improper image file=\"C:\\Users\\寒涧松\\AppData\\Local\\Temp/leaf11_15660.svg\"\r\n",
      "in label of node leaf11\r\n",
      "Warning: No such file or directory while opening C:\\Users\\寒涧松\\AppData\\Local\\Temp/leaf13_15660.svg\r\n",
      "Error: No or improper image file=\"C:\\Users\\寒涧松\\AppData\\Local\\Temp/leaf13_15660.svg\"\r\n",
      "in label of node leaf13\r\n",
      "Warning: No such file or directory while opening C:\\Users\\寒涧松\\AppData\\Local\\Temp/leaf14_15660.svg\r\n",
      "Error: No or improper image file=\"C:\\Users\\寒涧松\\AppData\\Local\\Temp/leaf14_15660.svg\"\r\n",
      "in label of node leaf14\r\n",
      "Warning: No such file or directory while opening C:\\Users\\寒涧松\\AppData\\Local\\Temp/legend_15660.svg\r\n",
      "Error: No or improper image file=\"C:\\Users\\寒涧松\\AppData\\Local\\Temp/legend_15660.svg\"\r\n",
      "in label of node legend\r\n"
     ]
    },
    {
     "ename": "CalledProcessError",
     "evalue": "Command '['dot', '-Tsvg', '-o', 'C:\\\\Users\\\\寒涧松\\\\AppData\\\\Local\\\\Temp\\\\DTreeViz_15660.svg', 'C:/Users/寒涧松/AppData/Local/Temp\\\\DTreeViz_15660']' returned non-zero exit status 1. [stderr: b'Warning: No such file or directory while opening C:\\\\Users\\\\\\xe5\\xaf\\x92\\xe6\\xb6\\xa7\\xe6\\x9d\\xbe\\\\AppData\\\\Local\\\\Temp/node2_15660.svg\\r\\nError: No or improper image file=\"C:\\\\Users\\\\\\xe5\\xaf\\x92\\xe6\\xb6\\xa7\\xe6\\x9d\\xbe\\\\AppData\\\\Local\\\\Temp/node2_15660.svg\"\\r\\nin label of node node2\\r\\nWarning: No such file or directory while opening C:\\\\Users\\\\\\xe5\\xaf\\x92\\xe6\\xb6\\xa7\\xe6\\x9d\\xbe\\\\AppData\\\\Local\\\\Temp/node5_15660.svg\\r\\nError: No or improper image file=\"C:\\\\Users\\\\\\xe5\\xaf\\x92\\xe6\\xb6\\xa7\\xe6\\x9d\\xbe\\\\AppData\\\\Local\\\\Temp/node5_15660.svg\"\\r\\nin label of node node5\\r\\nWarning: No such file or directory while opening C:\\\\Users\\\\\\xe5\\xaf\\x92\\xe6\\xb6\\xa7\\xe6\\x9d\\xbe\\\\AppData\\\\Local\\\\Temp/node1_15660.svg\\r\\nError: No or improper image file=\"C:\\\\Users\\\\\\xe5\\xaf\\x92\\xe6\\xb6\\xa7\\xe6\\x9d\\xbe\\\\AppData\\\\Local\\\\Temp/node1_15660.svg\"\\r\\nin label of node node1\\r\\nWarning: No such file or directory while opening C:\\\\Users\\\\\\xe5\\xaf\\x92\\xe6\\xb6\\xa7\\xe6\\x9d\\xbe\\\\AppData\\\\Local\\\\Temp/node9_15660.svg\\r\\nError: No or improper image file=\"C:\\\\Users\\\\\\xe5\\xaf\\x92\\xe6\\xb6\\xa7\\xe6\\x9d\\xbe\\\\AppData\\\\Local\\\\Temp/node9_15660.svg\"\\r\\nin label of node node9\\r\\nWarning: No such file or directory while opening C:\\\\Users\\\\\\xe5\\xaf\\x92\\xe6\\xb6\\xa7\\xe6\\x9d\\xbe\\\\AppData\\\\Local\\\\Temp/node12_15660.svg\\r\\nError: No or improper image file=\"C:\\\\Users\\\\\\xe5\\xaf\\x92\\xe6\\xb6\\xa7\\xe6\\x9d\\xbe\\\\AppData\\\\Local\\\\Temp/node12_15660.svg\"\\r\\nin label of node node12\\r\\nWarning: No such file or directory while opening C:\\\\Users\\\\\\xe5\\xaf\\x92\\xe6\\xb6\\xa7\\xe6\\x9d\\xbe\\\\AppData\\\\Local\\\\Temp/node8_15660.svg\\r\\nError: No or improper image file=\"C:\\\\Users\\\\\\xe5\\xaf\\x92\\xe6\\xb6\\xa7\\xe6\\x9d\\xbe\\\\AppData\\\\Local\\\\Temp/node8_15660.svg\"\\r\\nin label of node node8\\r\\nWarning: No such file or directory while opening C:\\\\Users\\\\\\xe5\\xaf\\x92\\xe6\\xb6\\xa7\\xe6\\x9d\\xbe\\\\AppData\\\\Local\\\\Temp/node0_15660.svg\\r\\nError: No or improper image file=\"C:\\\\Users\\\\\\xe5\\xaf\\x92\\xe6\\xb6\\xa7\\xe6\\x9d\\xbe\\\\AppData\\\\Local\\\\Temp/node0_15660.svg\"\\r\\nin label of node node0\\r\\nWarning: No such file or directory while opening C:\\\\Users\\\\\\xe5\\xaf\\x92\\xe6\\xb6\\xa7\\xe6\\x9d\\xbe\\\\AppData\\\\Local\\\\Temp/leaf3_15660.svg\\r\\nError: No or improper image file=\"C:\\\\Users\\\\\\xe5\\xaf\\x92\\xe6\\xb6\\xa7\\xe6\\x9d\\xbe\\\\AppData\\\\Local\\\\Temp/leaf3_15660.svg\"\\r\\nin label of node leaf3\\r\\nWarning: No such file or directory while opening C:\\\\Users\\\\\\xe5\\xaf\\x92\\xe6\\xb6\\xa7\\xe6\\x9d\\xbe\\\\AppData\\\\Local\\\\Temp/leaf4_15660.svg\\r\\nError: No or improper image file=\"C:\\\\Users\\\\\\xe5\\xaf\\x92\\xe6\\xb6\\xa7\\xe6\\x9d\\xbe\\\\AppData\\\\Local\\\\Temp/leaf4_15660.svg\"\\r\\nin label of node leaf4\\r\\nWarning: No such file or directory while opening C:\\\\Users\\\\\\xe5\\xaf\\x92\\xe6\\xb6\\xa7\\xe6\\x9d\\xbe\\\\AppData\\\\Local\\\\Temp/leaf6_15660.svg\\r\\nError: No or improper image file=\"C:\\\\Users\\\\\\xe5\\xaf\\x92\\xe6\\xb6\\xa7\\xe6\\x9d\\xbe\\\\AppData\\\\Local\\\\Temp/leaf6_15660.svg\"\\r\\nin label of node leaf6\\r\\nWarning: No such file or directory while opening C:\\\\Users\\\\\\xe5\\xaf\\x92\\xe6\\xb6\\xa7\\xe6\\x9d\\xbe\\\\AppData\\\\Local\\\\Temp/leaf7_15660.svg\\r\\nError: No or improper image file=\"C:\\\\Users\\\\\\xe5\\xaf\\x92\\xe6\\xb6\\xa7\\xe6\\x9d\\xbe\\\\AppData\\\\Local\\\\Temp/leaf7_15660.svg\"\\r\\nin label of node leaf7\\r\\nWarning: No such file or directory while opening C:\\\\Users\\\\\\xe5\\xaf\\x92\\xe6\\xb6\\xa7\\xe6\\x9d\\xbe\\\\AppData\\\\Local\\\\Temp/leaf10_15660.svg\\r\\nError: No or improper image file=\"C:\\\\Users\\\\\\xe5\\xaf\\x92\\xe6\\xb6\\xa7\\xe6\\x9d\\xbe\\\\AppData\\\\Local\\\\Temp/leaf10_15660.svg\"\\r\\nin label of node leaf10\\r\\nWarning: No such file or directory while opening C:\\\\Users\\\\\\xe5\\xaf\\x92\\xe6\\xb6\\xa7\\xe6\\x9d\\xbe\\\\AppData\\\\Local\\\\Temp/leaf11_15660.svg\\r\\nError: No or improper image file=\"C:\\\\Users\\\\\\xe5\\xaf\\x92\\xe6\\xb6\\xa7\\xe6\\x9d\\xbe\\\\AppData\\\\Local\\\\Temp/leaf11_15660.svg\"\\r\\nin label of node leaf11\\r\\nWarning: No such file or directory while opening C:\\\\Users\\\\\\xe5\\xaf\\x92\\xe6\\xb6\\xa7\\xe6\\x9d\\xbe\\\\AppData\\\\Local\\\\Temp/leaf13_15660.svg\\r\\nError: No or improper image file=\"C:\\\\Users\\\\\\xe5\\xaf\\x92\\xe6\\xb6\\xa7\\xe6\\x9d\\xbe\\\\AppData\\\\Local\\\\Temp/leaf13_15660.svg\"\\r\\nin label of node leaf13\\r\\nWarning: No such file or directory while opening C:\\\\Users\\\\\\xe5\\xaf\\x92\\xe6\\xb6\\xa7\\xe6\\x9d\\xbe\\\\AppData\\\\Local\\\\Temp/leaf14_15660.svg\\r\\nError: No or improper image file=\"C:\\\\Users\\\\\\xe5\\xaf\\x92\\xe6\\xb6\\xa7\\xe6\\x9d\\xbe\\\\AppData\\\\Local\\\\Temp/leaf14_15660.svg\"\\r\\nin label of node leaf14\\r\\nWarning: No such file or directory while opening C:\\\\Users\\\\\\xe5\\xaf\\x92\\xe6\\xb6\\xa7\\xe6\\x9d\\xbe\\\\AppData\\\\Local\\\\Temp/legend_15660.svg\\r\\nError: No or improper image file=\"C:\\\\Users\\\\\\xe5\\xaf\\x92\\xe6\\xb6\\xa7\\xe6\\x9d\\xbe\\\\AppData\\\\Local\\\\Temp/legend_15660.svg\"\\r\\nin label of node legend\\r\\n']",
     "output_type": "error",
     "traceback": [
      "\u001b[1;31m---------------------------------------------------------------------------\u001b[0m",
      "\u001b[1;31mCalledProcessError\u001b[0m                        Traceback (most recent call last)",
      "\u001b[1;32m<ipython-input-13-1bb26f42b7aa>\u001b[0m in \u001b[0;36m<module>\u001b[1;34m\u001b[0m\n\u001b[0;32m      7\u001b[0m                class_names={0:'Health',1:'Patient'},scale=2)\n\u001b[0;32m      8\u001b[0m \u001b[1;33m\u001b[0m\u001b[0m\n\u001b[1;32m----> 9\u001b[1;33m \u001b[0mviz\u001b[0m\u001b[1;33m.\u001b[0m\u001b[0mview\u001b[0m\u001b[1;33m(\u001b[0m\u001b[1;33m)\u001b[0m\u001b[1;33m\u001b[0m\u001b[1;33m\u001b[0m\u001b[0m\n\u001b[0m",
      "\u001b[1;32mC:\\anaconda\\lib\\site-packages\\dtreeviz\\trees.py\u001b[0m in \u001b[0;36mview\u001b[1;34m(self)\u001b[0m\n\u001b[0;32m     45\u001b[0m \u001b[1;33m\u001b[0m\u001b[0m\n\u001b[0;32m     46\u001b[0m     \u001b[1;32mdef\u001b[0m \u001b[0mview\u001b[0m\u001b[1;33m(\u001b[0m\u001b[0mself\u001b[0m\u001b[1;33m)\u001b[0m\u001b[1;33m:\u001b[0m\u001b[1;33m\u001b[0m\u001b[1;33m\u001b[0m\u001b[0m\n\u001b[1;32m---> 47\u001b[1;33m         \u001b[0msvgfilename\u001b[0m \u001b[1;33m=\u001b[0m \u001b[0mself\u001b[0m\u001b[1;33m.\u001b[0m\u001b[0msave_svg\u001b[0m\u001b[1;33m(\u001b[0m\u001b[1;33m)\u001b[0m\u001b[1;33m\u001b[0m\u001b[1;33m\u001b[0m\u001b[0m\n\u001b[0m\u001b[0;32m     48\u001b[0m         \u001b[0mgraphviz\u001b[0m\u001b[1;33m.\u001b[0m\u001b[0mbackend\u001b[0m\u001b[1;33m.\u001b[0m\u001b[0mview\u001b[0m\u001b[1;33m(\u001b[0m\u001b[0msvgfilename\u001b[0m\u001b[1;33m)\u001b[0m\u001b[1;33m\u001b[0m\u001b[1;33m\u001b[0m\u001b[0m\n\u001b[0;32m     49\u001b[0m \u001b[1;33m\u001b[0m\u001b[0m\n",
      "\u001b[1;32mC:\\anaconda\\lib\\site-packages\\dtreeviz\\trees.py\u001b[0m in \u001b[0;36msave_svg\u001b[1;34m(self)\u001b[0m\n\u001b[0;32m     52\u001b[0m         \u001b[0mtmp\u001b[0m \u001b[1;33m=\u001b[0m \u001b[0mtempfile\u001b[0m\u001b[1;33m.\u001b[0m\u001b[0mgettempdir\u001b[0m\u001b[1;33m(\u001b[0m\u001b[1;33m)\u001b[0m\u001b[1;33m\u001b[0m\u001b[1;33m\u001b[0m\u001b[0m\n\u001b[0;32m     53\u001b[0m         \u001b[0msvgfilename\u001b[0m \u001b[1;33m=\u001b[0m \u001b[0mos\u001b[0m\u001b[1;33m.\u001b[0m\u001b[0mpath\u001b[0m\u001b[1;33m.\u001b[0m\u001b[0mjoin\u001b[0m\u001b[1;33m(\u001b[0m\u001b[0mtmp\u001b[0m\u001b[1;33m,\u001b[0m \u001b[1;34mf\"DTreeViz_{os.getpid()}.svg\"\u001b[0m\u001b[1;33m)\u001b[0m\u001b[1;33m\u001b[0m\u001b[1;33m\u001b[0m\u001b[0m\n\u001b[1;32m---> 54\u001b[1;33m         \u001b[0mself\u001b[0m\u001b[1;33m.\u001b[0m\u001b[0msave\u001b[0m\u001b[1;33m(\u001b[0m\u001b[0msvgfilename\u001b[0m\u001b[1;33m)\u001b[0m\u001b[1;33m\u001b[0m\u001b[1;33m\u001b[0m\u001b[0m\n\u001b[0m\u001b[0;32m     55\u001b[0m         \u001b[1;32mreturn\u001b[0m \u001b[0msvgfilename\u001b[0m\u001b[1;33m\u001b[0m\u001b[1;33m\u001b[0m\u001b[0m\n\u001b[0;32m     56\u001b[0m \u001b[1;33m\u001b[0m\u001b[0m\n",
      "\u001b[1;32mC:\\anaconda\\lib\\site-packages\\dtreeviz\\trees.py\u001b[0m in \u001b[0;36msave\u001b[1;34m(self, filename)\u001b[0m\n\u001b[0;32m     78\u001b[0m         \u001b[1;31m# print(' '.join(cmd))\u001b[0m\u001b[1;33m\u001b[0m\u001b[1;33m\u001b[0m\u001b[1;33m\u001b[0m\u001b[0m\n\u001b[0;32m     79\u001b[0m         \u001b[1;32mif\u001b[0m \u001b[0mgraphviz\u001b[0m\u001b[1;33m.\u001b[0m\u001b[0m__version__\u001b[0m \u001b[1;33m<=\u001b[0m \u001b[1;34m'0.17'\u001b[0m\u001b[1;33m:\u001b[0m\u001b[1;33m\u001b[0m\u001b[1;33m\u001b[0m\u001b[0m\n\u001b[1;32m---> 80\u001b[1;33m             \u001b[0mgraphviz\u001b[0m\u001b[1;33m.\u001b[0m\u001b[0mbackend\u001b[0m\u001b[1;33m.\u001b[0m\u001b[0mrun\u001b[0m\u001b[1;33m(\u001b[0m\u001b[0mcmd\u001b[0m\u001b[1;33m,\u001b[0m \u001b[0mcapture_output\u001b[0m\u001b[1;33m=\u001b[0m\u001b[1;32mTrue\u001b[0m\u001b[1;33m,\u001b[0m \u001b[0mcheck\u001b[0m\u001b[1;33m=\u001b[0m\u001b[1;32mTrue\u001b[0m\u001b[1;33m,\u001b[0m \u001b[0mquiet\u001b[0m\u001b[1;33m=\u001b[0m\u001b[1;32mFalse\u001b[0m\u001b[1;33m)\u001b[0m\u001b[1;33m\u001b[0m\u001b[1;33m\u001b[0m\u001b[0m\n\u001b[0m\u001b[0;32m     81\u001b[0m         \u001b[1;32melse\u001b[0m\u001b[1;33m:\u001b[0m\u001b[1;33m\u001b[0m\u001b[1;33m\u001b[0m\u001b[0m\n\u001b[0;32m     82\u001b[0m             \u001b[0mgraphviz\u001b[0m\u001b[1;33m.\u001b[0m\u001b[0mbackend\u001b[0m\u001b[1;33m.\u001b[0m\u001b[0mexecute\u001b[0m\u001b[1;33m.\u001b[0m\u001b[0mrun_check\u001b[0m\u001b[1;33m(\u001b[0m\u001b[0mcmd\u001b[0m\u001b[1;33m,\u001b[0m \u001b[0mcapture_output\u001b[0m\u001b[1;33m=\u001b[0m\u001b[1;32mTrue\u001b[0m\u001b[1;33m,\u001b[0m \u001b[0mcheck\u001b[0m\u001b[1;33m=\u001b[0m\u001b[1;32mTrue\u001b[0m\u001b[1;33m,\u001b[0m \u001b[0mquiet\u001b[0m\u001b[1;33m=\u001b[0m\u001b[1;32mFalse\u001b[0m\u001b[1;33m)\u001b[0m\u001b[1;33m\u001b[0m\u001b[1;33m\u001b[0m\u001b[0m\n",
      "\u001b[1;32mC:\\anaconda\\lib\\site-packages\\graphviz\\backend.py\u001b[0m in \u001b[0;36mrun\u001b[1;34m(cmd, input, capture_output, check, encoding, quiet, **kwargs)\u001b[0m\n\u001b[0;32m    189\u001b[0m \u001b[1;33m\u001b[0m\u001b[0m\n\u001b[0;32m    190\u001b[0m     \u001b[1;32mif\u001b[0m \u001b[0mcheck\u001b[0m \u001b[1;32mand\u001b[0m \u001b[0mproc\u001b[0m\u001b[1;33m.\u001b[0m\u001b[0mreturncode\u001b[0m\u001b[1;33m:\u001b[0m\u001b[1;33m\u001b[0m\u001b[1;33m\u001b[0m\u001b[0m\n\u001b[1;32m--> 191\u001b[1;33m         raise CalledProcessError(proc.returncode, cmd,\n\u001b[0m\u001b[0;32m    192\u001b[0m                                  output=out, stderr=err)\n\u001b[0;32m    193\u001b[0m \u001b[1;33m\u001b[0m\u001b[0m\n",
      "\u001b[1;31mCalledProcessError\u001b[0m: Command '['dot', '-Tsvg', '-o', 'C:\\\\Users\\\\寒涧松\\\\AppData\\\\Local\\\\Temp\\\\DTreeViz_15660.svg', 'C:/Users/寒涧松/AppData/Local/Temp\\\\DTreeViz_15660']' returned non-zero exit status 1. [stderr: b'Warning: No such file or directory while opening C:\\\\Users\\\\\\xe5\\xaf\\x92\\xe6\\xb6\\xa7\\xe6\\x9d\\xbe\\\\AppData\\\\Local\\\\Temp/node2_15660.svg\\r\\nError: No or improper image file=\"C:\\\\Users\\\\\\xe5\\xaf\\x92\\xe6\\xb6\\xa7\\xe6\\x9d\\xbe\\\\AppData\\\\Local\\\\Temp/node2_15660.svg\"\\r\\nin label of node node2\\r\\nWarning: No such file or directory while opening C:\\\\Users\\\\\\xe5\\xaf\\x92\\xe6\\xb6\\xa7\\xe6\\x9d\\xbe\\\\AppData\\\\Local\\\\Temp/node5_15660.svg\\r\\nError: No or improper image file=\"C:\\\\Users\\\\\\xe5\\xaf\\x92\\xe6\\xb6\\xa7\\xe6\\x9d\\xbe\\\\AppData\\\\Local\\\\Temp/node5_15660.svg\"\\r\\nin label of node node5\\r\\nWarning: No such file or directory while opening C:\\\\Users\\\\\\xe5\\xaf\\x92\\xe6\\xb6\\xa7\\xe6\\x9d\\xbe\\\\AppData\\\\Local\\\\Temp/node1_15660.svg\\r\\nError: No or improper image file=\"C:\\\\Users\\\\\\xe5\\xaf\\x92\\xe6\\xb6\\xa7\\xe6\\x9d\\xbe\\\\AppData\\\\Local\\\\Temp/node1_15660.svg\"\\r\\nin label of node node1\\r\\nWarning: No such file or directory while opening C:\\\\Users\\\\\\xe5\\xaf\\x92\\xe6\\xb6\\xa7\\xe6\\x9d\\xbe\\\\AppData\\\\Local\\\\Temp/node9_15660.svg\\r\\nError: No or improper image file=\"C:\\\\Users\\\\\\xe5\\xaf\\x92\\xe6\\xb6\\xa7\\xe6\\x9d\\xbe\\\\AppData\\\\Local\\\\Temp/node9_15660.svg\"\\r\\nin label of node node9\\r\\nWarning: No such file or directory while opening C:\\\\Users\\\\\\xe5\\xaf\\x92\\xe6\\xb6\\xa7\\xe6\\x9d\\xbe\\\\AppData\\\\Local\\\\Temp/node12_15660.svg\\r\\nError: No or improper image file=\"C:\\\\Users\\\\\\xe5\\xaf\\x92\\xe6\\xb6\\xa7\\xe6\\x9d\\xbe\\\\AppData\\\\Local\\\\Temp/node12_15660.svg\"\\r\\nin label of node node12\\r\\nWarning: No such file or directory while opening C:\\\\Users\\\\\\xe5\\xaf\\x92\\xe6\\xb6\\xa7\\xe6\\x9d\\xbe\\\\AppData\\\\Local\\\\Temp/node8_15660.svg\\r\\nError: No or improper image file=\"C:\\\\Users\\\\\\xe5\\xaf\\x92\\xe6\\xb6\\xa7\\xe6\\x9d\\xbe\\\\AppData\\\\Local\\\\Temp/node8_15660.svg\"\\r\\nin label of node node8\\r\\nWarning: No such file or directory while opening C:\\\\Users\\\\\\xe5\\xaf\\x92\\xe6\\xb6\\xa7\\xe6\\x9d\\xbe\\\\AppData\\\\Local\\\\Temp/node0_15660.svg\\r\\nError: No or improper image file=\"C:\\\\Users\\\\\\xe5\\xaf\\x92\\xe6\\xb6\\xa7\\xe6\\x9d\\xbe\\\\AppData\\\\Local\\\\Temp/node0_15660.svg\"\\r\\nin label of node node0\\r\\nWarning: No such file or directory while opening C:\\\\Users\\\\\\xe5\\xaf\\x92\\xe6\\xb6\\xa7\\xe6\\x9d\\xbe\\\\AppData\\\\Local\\\\Temp/leaf3_15660.svg\\r\\nError: No or improper image file=\"C:\\\\Users\\\\\\xe5\\xaf\\x92\\xe6\\xb6\\xa7\\xe6\\x9d\\xbe\\\\AppData\\\\Local\\\\Temp/leaf3_15660.svg\"\\r\\nin label of node leaf3\\r\\nWarning: No such file or directory while opening C:\\\\Users\\\\\\xe5\\xaf\\x92\\xe6\\xb6\\xa7\\xe6\\x9d\\xbe\\\\AppData\\\\Local\\\\Temp/leaf4_15660.svg\\r\\nError: No or improper image file=\"C:\\\\Users\\\\\\xe5\\xaf\\x92\\xe6\\xb6\\xa7\\xe6\\x9d\\xbe\\\\AppData\\\\Local\\\\Temp/leaf4_15660.svg\"\\r\\nin label of node leaf4\\r\\nWarning: No such file or directory while opening C:\\\\Users\\\\\\xe5\\xaf\\x92\\xe6\\xb6\\xa7\\xe6\\x9d\\xbe\\\\AppData\\\\Local\\\\Temp/leaf6_15660.svg\\r\\nError: No or improper image file=\"C:\\\\Users\\\\\\xe5\\xaf\\x92\\xe6\\xb6\\xa7\\xe6\\x9d\\xbe\\\\AppData\\\\Local\\\\Temp/leaf6_15660.svg\"\\r\\nin label of node leaf6\\r\\nWarning: No such file or directory while opening C:\\\\Users\\\\\\xe5\\xaf\\x92\\xe6\\xb6\\xa7\\xe6\\x9d\\xbe\\\\AppData\\\\Local\\\\Temp/leaf7_15660.svg\\r\\nError: No or improper image file=\"C:\\\\Users\\\\\\xe5\\xaf\\x92\\xe6\\xb6\\xa7\\xe6\\x9d\\xbe\\\\AppData\\\\Local\\\\Temp/leaf7_15660.svg\"\\r\\nin label of node leaf7\\r\\nWarning: No such file or directory while opening C:\\\\Users\\\\\\xe5\\xaf\\x92\\xe6\\xb6\\xa7\\xe6\\x9d\\xbe\\\\AppData\\\\Local\\\\Temp/leaf10_15660.svg\\r\\nError: No or improper image file=\"C:\\\\Users\\\\\\xe5\\xaf\\x92\\xe6\\xb6\\xa7\\xe6\\x9d\\xbe\\\\AppData\\\\Local\\\\Temp/leaf10_15660.svg\"\\r\\nin label of node leaf10\\r\\nWarning: No such file or directory while opening C:\\\\Users\\\\\\xe5\\xaf\\x92\\xe6\\xb6\\xa7\\xe6\\x9d\\xbe\\\\AppData\\\\Local\\\\Temp/leaf11_15660.svg\\r\\nError: No or improper image file=\"C:\\\\Users\\\\\\xe5\\xaf\\x92\\xe6\\xb6\\xa7\\xe6\\x9d\\xbe\\\\AppData\\\\Local\\\\Temp/leaf11_15660.svg\"\\r\\nin label of node leaf11\\r\\nWarning: No such file or directory while opening C:\\\\Users\\\\\\xe5\\xaf\\x92\\xe6\\xb6\\xa7\\xe6\\x9d\\xbe\\\\AppData\\\\Local\\\\Temp/leaf13_15660.svg\\r\\nError: No or improper image file=\"C:\\\\Users\\\\\\xe5\\xaf\\x92\\xe6\\xb6\\xa7\\xe6\\x9d\\xbe\\\\AppData\\\\Local\\\\Temp/leaf13_15660.svg\"\\r\\nin label of node leaf13\\r\\nWarning: No such file or directory while opening C:\\\\Users\\\\\\xe5\\xaf\\x92\\xe6\\xb6\\xa7\\xe6\\x9d\\xbe\\\\AppData\\\\Local\\\\Temp/leaf14_15660.svg\\r\\nError: No or improper image file=\"C:\\\\Users\\\\\\xe5\\xaf\\x92\\xe6\\xb6\\xa7\\xe6\\x9d\\xbe\\\\AppData\\\\Local\\\\Temp/leaf14_15660.svg\"\\r\\nin label of node leaf14\\r\\nWarning: No such file or directory while opening C:\\\\Users\\\\\\xe5\\xaf\\x92\\xe6\\xb6\\xa7\\xe6\\x9d\\xbe\\\\AppData\\\\Local\\\\Temp/legend_15660.svg\\r\\nError: No or improper image file=\"C:\\\\Users\\\\\\xe5\\xaf\\x92\\xe6\\xb6\\xa7\\xe6\\x9d\\xbe\\\\AppData\\\\Local\\\\Temp/legend_15660.svg\"\\r\\nin label of node legend\\r\\n']"
     ]
    }
   ],
   "source": [
    "from dtreeviz.trees import dtreeviz\n",
    "viz = dtreeviz(dt,\n",
    "               feature_encoded,\n",
    "               label_encoded,\n",
    "               target_name='',\n",
    "               feature_names=feature_cols_encoded,\n",
    "               class_names={0:'Health',1:'Patient'},scale=2)\n",
    "              \n",
    "viz.view()"
   ]
  },
  {
   "cell_type": "markdown",
   "metadata": {},
   "source": [
    "年龄和最大心率"
   ]
  },
  {
   "cell_type": "code",
   "execution_count": null,
   "metadata": {},
   "outputs": [],
   "source": [
    "health = df[df['HeartDisease']==0]\n",
    "patient = df[df['HeartDisease']==1]"
   ]
  },
  {
   "cell_type": "code",
   "execution_count": null,
   "metadata": {},
   "outputs": [],
   "source": [
    "health_pair = [list(z) for z in zip(health['Age'], health['MaxHR'])]\n",
    "patient_pair = [list(z) for z in zip(patient['Age'], patient['MaxHR'])]\n",
    "# print(len(data_pair1))\n",
    "# print(data_pair)\n",
    "x_hea = []\n",
    "y_hea = []\n",
    "x_pat = []\n",
    "y_pat = []\n",
    "for i in range(len(health_pair)):\n",
    "    x_hea.append(health_pair[i][0])\n",
    "    y_hea.append(int(health_pair[i][1]))\n",
    "for i in range(len(patient_pair)):\n",
    "    x_pat.append(patient_pair[i][0])\n",
    "    y_pat.append(int(patient_pair[i][1]))\n",
    "scatter = Scatter()\n",
    "scatter.add_xaxis(health['Age'])\n",
    "scatter.add_yaxis(\"Health\", y_hea,symbol_size=8)\n",
    "scatter.add_xaxis(patient['Age'])\n",
    "scatter.add_yaxis(\"Patient\", y_pat,symbol_size=8)\n",
    "# scatter.set_global_opts(title_opts=opts.TitleOpts(title=\"Scatter-基本示例\"))\n",
    "scatter.set_series_opts(label_opts=opts.LabelOpts(is_show=False))\n",
    "scatter.set_global_opts(\n",
    "            title_opts=opts.TitleOpts(title=\"Age and Maximum Heart Rate\"),\n",
    "            xaxis_opts=opts.AxisOpts(splitline_opts=opts.SplitLineOpts(is_show=False),name=\"Age\",name_location = 'center',\n",
    "                   name_gap = 35,),\n",
    "            yaxis_opts=opts.AxisOpts(splitline_opts=opts.SplitLineOpts(is_show=False),name=\"MaxHR\",name_location = 'center',\n",
    "                   name_gap = 35,),\n",
    "        )\n",
    "scatter.render('年龄和最大心率.html')"
   ]
  },
  {
   "cell_type": "markdown",
   "metadata": {},
   "source": [
    "心脏病在老年人中经常发生，而患有心脏病的老年人的最大心率较低，最大心率高的人群患有心脏病的几率也高"
   ]
  },
  {
   "cell_type": "markdown",
   "metadata": {},
   "source": [
    "RestingECG可视化"
   ]
  },
  {
   "cell_type": "code",
   "execution_count": null,
   "metadata": {},
   "outputs": [],
   "source": [
    "from pyecharts.render import make_snapshot\n",
    "from snapshot_selenium import snapshot\n",
    "p2_2 = df.groupby('HeartDisease').agg({})"
   ]
  },
  {
   "cell_type": "code",
   "execution_count": null,
   "metadata": {},
   "outputs": [],
   "source": [
    "Normal = df[df['RestingECG']=='Normal']\n",
    "ST = df[df['RestingECG']=='ST']\n",
    "LVH = df[df['RestingECG']=='LVH']\n",
    "# print(type(Normal['HeartDisease'].value_counts()))\n",
    "y1 = Normal['HeartDisease'].value_counts()\n",
    "y2 = ST['HeartDisease'].value_counts()\n",
    "y3 = LVH['HeartDisease'].value_counts()\n",
    "print(y3)\n",
    "y1 = list(y1.values)\n",
    "y2 = list(y2.values)\n",
    "y3 = list(y3.values)\n",
    "# y1 = list(y1.values[:,0].round(3))\n",
    "# Cholesterol = list(p2_2.values[:,1].round(3))\n",
    "print(y1)"
   ]
  },
  {
   "cell_type": "code",
   "execution_count": null,
   "metadata": {},
   "outputs": [],
   "source": [
    "x = [\"HeartDisease:1\",\"HeartDisease:0\"]\n",
    "def overlap_line_scatter():\n",
    "    bar = (Bar()\n",
    "\n",
    "    .add_xaxis(x)\n",
    "    .add_yaxis(\"Normal\", [285, 267])\n",
    "    .add_yaxis(\"ST\", [117, 61])\n",
    "    .add_yaxis(\"LVH\", [106, 82])\n",
    "    .set_series_opts(label_opts=opts.LabelOpts(is_show=False))\n",
    "    .set_global_opts(title_opts=opts.TitleOpts(title=\"RestingECG结果对心脏病的影响\"),\n",
    "                    \n",
    "                    xaxis_opts=opts.AxisOpts(axislabel_opts=opts.LabelOpts(rotate=-15),name_location = 'center',\n",
    "                                            name_gap = 35),\n",
    "                    yaxis_opts=opts.AxisOpts(name=\"人数\",name_location = 'center',\n",
    "                                            name_gap = 35,),\n",
    "                    )\n",
    "     )\n",
    "    line = (\n",
    "        Line()\n",
    "        .add_xaxis(x)\n",
    "        .add_yaxis(\"Normal\", [285, 267])\n",
    "        .add_yaxis(\"ST\", [117, 61])\n",
    "        .add_yaxis(\"LVH\", [106, 82])\n",
    "    )\n",
    "    bar.overlap(line)\n",
    "    return bar\n",
    "\n",
    "overlap_line_scatter().render('RestingECG结果对心脏病的影响.html')\n"
   ]
  },
  {
   "cell_type": "code",
   "execution_count": null,
   "metadata": {},
   "outputs": [],
   "source": []
  },
  {
   "cell_type": "code",
   "execution_count": null,
   "metadata": {},
   "outputs": [],
   "source": []
  },
  {
   "cell_type": "code",
   "execution_count": null,
   "metadata": {},
   "outputs": [],
   "source": []
  },
  {
   "cell_type": "code",
   "execution_count": null,
   "metadata": {},
   "outputs": [],
   "source": []
  },
  {
   "cell_type": "code",
   "execution_count": null,
   "metadata": {},
   "outputs": [],
   "source": []
  },
  {
   "cell_type": "code",
   "execution_count": null,
   "metadata": {},
   "outputs": [],
   "source": []
  },
  {
   "cell_type": "code",
   "execution_count": null,
   "metadata": {},
   "outputs": [],
   "source": []
  },
  {
   "cell_type": "code",
   "execution_count": null,
   "metadata": {},
   "outputs": [],
   "source": []
  },
  {
   "cell_type": "code",
   "execution_count": null,
   "metadata": {},
   "outputs": [],
   "source": []
  },
  {
   "cell_type": "code",
   "execution_count": null,
   "metadata": {},
   "outputs": [],
   "source": []
  },
  {
   "cell_type": "code",
   "execution_count": null,
   "metadata": {},
   "outputs": [],
   "source": []
  },
  {
   "cell_type": "code",
   "execution_count": null,
   "metadata": {},
   "outputs": [],
   "source": []
  }
 ],
 "metadata": {
  "kernelspec": {
   "display_name": "Python 3",
   "language": "python",
   "name": "python3"
  },
  "language_info": {
   "codemirror_mode": {
    "name": "ipython",
    "version": 3
   },
   "file_extension": ".py",
   "mimetype": "text/x-python",
   "name": "python",
   "nbconvert_exporter": "python",
   "pygments_lexer": "ipython3",
   "version": "3.6.4"
  }
 },
 "nbformat": 4,
 "nbformat_minor": 4
}
